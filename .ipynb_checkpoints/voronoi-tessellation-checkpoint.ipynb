{
 "cells": [
  {
   "cell_type": "code",
   "execution_count": 1,
   "metadata": {},
   "outputs": [],
   "source": [
    "import numpy as np\n",
    "import pandas as pd\n",
    "\n",
    "import matplotlib.pyplot as plt\n",
    "import matplotlib as mpl\n",
    "import matplotlib.cm as cm\n",
    "import seaborn as sns\n",
    "\n",
    "from scipy.spatial import Voronoi, voronoi_plot_2d\n",
    "from scipy.spatial.distance import cdist\n",
    "from scipy.spatial import ConvexHull\n",
    "\n",
    "import itertools\n",
    "import random\n",
    "\n",
    "from utils import *\n",
    "from helper import *\n",
    "from collections import Counter\n",
    "\n",
    "plt.style.use('seaborn-darkgrid')\n",
    "\n",
    "%config InlineBackend.figure_format = 'retina'\n",
    "%matplotlib inline\n",
    "\n",
    "np.random.seed(260647775)"
   ]
  },
  {
   "cell_type": "code",
   "execution_count": null,
   "metadata": {},
   "outputs": [],
   "source": [
    "def condition(coord):\n",
    "    x, y = coord\n",
    "    \n",
    "    return (x-25)**2 + (y-25)**2 < 225 # radius 15\n",
    "\n",
    "grid      = [[(x, y) for y in range(50)] for x in range(50)]\n",
    "grayscale = [[2 if condition(tup) else 0.5 for tup in row] for row in grid]"
   ]
  },
  {
   "cell_type": "code",
   "execution_count": null,
   "metadata": {},
   "outputs": [],
   "source": [
    "noise = np.random.normal(0, 0.7, size=(50, 50))"
   ]
  },
  {
   "cell_type": "code",
   "execution_count": null,
   "metadata": {},
   "outputs": [],
   "source": [
    "noisy_image = grayscale - noise\n",
    "np.putmask(noisy_image, noisy_image < 0, 0)\n",
    "np.putmask(noisy_image, noisy_image > 2, 2)"
   ]
  },
  {
   "cell_type": "code",
   "execution_count": null,
   "metadata": {},
   "outputs": [],
   "source": [
    "fig, axes = plt.subplots(figsize=(12, 5.5), nrows=1, ncols=2)\n",
    "\n",
    "axes[0] = sns.heatmap(grayscale,\n",
    "                        cmap='Greys',\n",
    "                        cbar=False,\n",
    "                        xticklabels='',\n",
    "                        yticklabels='',\n",
    "                        ax=axes[0])\n",
    "plt.axis('off')\n",
    "axes[1] = sns.heatmap(noisy_image,\n",
    "                      cmap='Greys',\n",
    "                      cbar=False,\n",
    "                      xticklabels='',\n",
    "                      yticklabels='',\n",
    "                      ax=axes[1])"
   ]
  },
  {
   "cell_type": "markdown",
   "metadata": {},
   "source": [
    "#### Initialization of random points"
   ]
  },
  {
   "cell_type": "code",
   "execution_count": null,
   "metadata": {},
   "outputs": [],
   "source": [
    "num_points = 12\n",
    "points = random_tessellation_points(num_points)"
   ]
  },
  {
   "cell_type": "code",
   "execution_count": null,
   "metadata": {},
   "outputs": [],
   "source": [
    "vor = Voronoi(points)\n",
    "regions, vertices = voronoi_finite_polygons_2d(vor)\n",
    "updated_vertices = {i: restricted_vertices(vertices[regions[i]], points[i]) for i in range(len(points))}"
   ]
  },
  {
   "cell_type": "code",
   "execution_count": null,
   "metadata": {},
   "outputs": [],
   "source": [
    "# manually add corners somewhere\n",
    "# order no longer matters\n",
    "for corner in [(0, 0), (0, 50), (50, 0), (50, 50)]:\n",
    "    \n",
    "    region_where_corner_belongs = np.argmin([l2_norm(p, corner) for p in points])\n",
    "    temp_vertices = updated_vertices[region_where_corner_belongs].copy()\n",
    "    \n",
    "    updated_vertices[region_where_corner_belongs] = np.array(list(temp_vertices) + [corner] )"
   ]
  },
  {
   "cell_type": "code",
   "execution_count": null,
   "metadata": {},
   "outputs": [],
   "source": [
    "fig = plt.figure(figsize=(10, 7))\n",
    "plot(points)\n",
    "\n",
    "for i, region in enumerate(regions):\n",
    "    try:\n",
    "        a, b = zip(*updated_vertices[i])\n",
    "        plt.scatter(a, b)\n",
    "    except Exception as e:\n",
    "        pass"
   ]
  },
  {
   "cell_type": "code",
   "execution_count": null,
   "metadata": {},
   "outputs": [],
   "source": [
    "total_area = 0\n",
    "for i in range(num_points):\n",
    "    print('{}th region: {} vertices\\t area = {}'.format(i, len(updated_vertices[i]), PolyArea(updated_vertices[i])))\n",
    "    total_area += PolyArea(updated_vertices[i])\n",
    "print('Total area: ', np.around(total_area, 3))"
   ]
  },
  {
   "cell_type": "markdown",
   "metadata": {},
   "source": [
    "#### Constants\n"
   ]
  },
  {
   "cell_type": "code",
   "execution_count": null,
   "metadata": {},
   "outputs": [],
   "source": [
    "lam = 15 # lambda\n",
    "alpha = 1 # alpha\n",
    "beta  = 1 # beta\n",
    "sigma = 0.7\n",
    "k = truncated_poisson(lam=lam, size=1)[0]\n",
    "\n",
    "coordinates = np.array([[(i + 0.5, j + 0.5) for i in range(50)] for j in range(50)])\n",
    "coordinates = coordinates.reshape(-1, 2)"
   ]
  },
  {
   "cell_type": "markdown",
   "metadata": {},
   "source": [
    "#### Sampler"
   ]
  },
  {
   "cell_type": "code",
   "execution_count": null,
   "metadata": {},
   "outputs": [],
   "source": [
    "NUM_ITER = 2000"
   ]
  },
  {
   "cell_type": "code",
   "execution_count": null,
   "metadata": {},
   "outputs": [],
   "source": [
    "x_sample = []\n",
    "k_sample = []\n",
    "\n",
    "count = 0\n",
    "death = 0\n",
    "birth = 0\n",
    "while len(x_sample) < NUM_ITER:\n",
    "\n",
    "    if count % 100 == 0:\n",
    "        print('Done sampling ', count)\n",
    "    \n",
    "    points  = random_tessellation_points(k)\n",
    "    old_Voronoi = UpdatedVoronoi(points)\n",
    "    \n",
    "    counter = Counter(old_Voronoi.x_heights)\n",
    "    ni = np.array([counter[r] for r in range(k)])\n",
    "    sum_yi = np.array([sum(noisy_image.reshape(-1)[np.argwhere(np.array(old_Voronoi.x_heights) == r).reshape(-1)]) for r in range(k)])\n",
    "    \n",
    "    heights = np.random.normal(loc=(sum_yi + 0.7**2)/ni, scale=np.sqrt(0.7**2/ni))\n",
    "    \n",
    "#     if any(heights <= 0):\n",
    "#         invalid_heights = np.argwhere(heights <= 0).reshape(-1)\n",
    "#         heights[invalid_heights] = 0.1 # sketchy solution\n",
    "\n",
    "    new_point   = np.random.uniform(low=0, high=50, size=[1, 2])\n",
    "    temp_points = np.concatenate((points, new_point.reshape(1, 2)))\n",
    "    new_Voronoi = UpdatedVoronoi(temp_points)\n",
    "\n",
    "#    J = get_neighbors(new_Voronoi, k) # k is last index of new voronoi, J as defined in Green (1995)\n",
    "    diff_areas = (old_Voronoi.areas - new_Voronoi.areas[:-1])\n",
    "    J = np.argwhere(diff_areas > 1e-7).reshape(-1).astype(np.int32)\n",
    "    \n",
    "#    assert all(np.argwhere(diff_areas > 1e-7).reshape(-1).astype(np.int32) == np.sort(J))\n",
    "\n",
    "    S, T = diff_areas[J], new_Voronoi.areas[J] # change in areas, new areas\n",
    "\n",
    "    try:\n",
    "        assert np.abs(sum(S) - new_Voronoi.areas[-1]) < 1e-7 # change in areas same as area of new region\n",
    "    except:\n",
    "        print('Error in birth process')\n",
    "        print('S: ', S)\n",
    "        print('Expected area: ', new_Voronoi.areas[-1])\n",
    "        print('Current number of tiles (k): ', k)\n",
    "        print('Neighbors of i*: ', J)\n",
    "\n",
    "    v = inverse_v(np.random.uniform(0, 1)) # ~ f(v)\n",
    "    h_tilde = np.exp(1/sum(S)*(S@np.log(heights[J]))) # no worries about height = 0\n",
    "    h_star  = h_tilde*v\n",
    "    heights = np.array(list(heights) + [h_star])\n",
    "\n",
    "    new_heights  = heights[J]**(1+S/T)*(np.tile(h_star, len(J))**(-S/T))\n",
    "    loglikeratio = log_likelihood_ratio(noisy_image.reshape(-1,), \n",
    "                                        heights[new_Voronoi.x_heights], \n",
    "                                        heights[old_Voronoi.x_heights])\n",
    "    # check if R < or > than 0\n",
    "    logR = loglikeratio + \\\n",
    "           np.log(lam) - \\\n",
    "           h_star - \\\n",
    "           sum(new_heights - heights[J]) - \\\n",
    "           np.log(poisson_ratio_pdf(k)*h_tilde/f(v)) - \\\n",
    "           np.log(sum((S+T)*new_heights/(T*heights[J])))\n",
    "\n",
    "\n",
    "\n",
    "    if logR < 0:\n",
    "        if np.random.binomial(n=1, p=np.exp(logR)):\n",
    "            birth += 1\n",
    "            \n",
    "            heights[J] = new_heights\n",
    "            assert len(heights) == max(new_Voronoi.x_heights) + 1 # birth\n",
    "\n",
    "            k = k+1\n",
    "            x_sample.append(heights[new_Voronoi.x_heights])\n",
    "            k_sample.append(k)\n",
    "            \n",
    "        else:\n",
    "            x_sample.append(heights[old_Voronoi.x_heights])\n",
    "            k_sample.append(k)\n",
    "\n",
    "    else:\n",
    "        if np.random.binomial(n=1, p=np.exp(-logR)):\n",
    "            death += 1\n",
    "            \n",
    "            heights = heights[:-1] # removing h_star\n",
    "            \n",
    "\n",
    "            delete_tile = random.choice(range(len(points)))\n",
    "            temp_points = np.delete(points, delete_tile, axis=0)\n",
    "\n",
    "            new_Voronoi = UpdatedVoronoi(temp_points)\n",
    "\n",
    "            #J = get_neighbors(old_Voronoi, delete_tile) # tile no longer exists in new_Voronoi\n",
    "            \n",
    "            _temp_areas = np.insert(new_Voronoi.areas, delete_tile, 0)\n",
    "            diff_areas  = (_temp_areas - old_Voronoi.areas)\n",
    "\n",
    "            J = np.argwhere(diff_areas > 1e-7).reshape(-1).astype(np.int32)\n",
    "\n",
    "            S, T = diff_areas[J], old_Voronoi.areas[J] # change in areas, new areas\n",
    "\n",
    "            try:\n",
    "                assert np.abs(sum(S) - old_Voronoi.areas[delete_tile]) < 1e-7 # change in areas same as area of new region\n",
    "            except Exception as e:\n",
    "                print('Error in death process')\n",
    "                print('S: ', S)\n",
    "                print('Expected area: ', new_Voronoi.areas[-1])\n",
    "                print('Current number of tiles (k): ', k)\n",
    "                print('Neighbors of delete_tile: ', J)\n",
    "\n",
    "            v = inverse_v(np.random.uniform(0, 1))\n",
    "            h_tilde = np.exp(1/sum(S)*(S@np.log(heights[J]))) # no worries about height = 0\n",
    "            h_star  = h_tilde*v\n",
    "            #height\n",
    "            s = np.insert(heights, delete_tile, 0)\n",
    "\n",
    "            new_heights  = heights[J]**(T/(S+T))*(h_star**(S/(S+T)))\n",
    "            heights[J] = new_heights\n",
    "            heights = np.delete(heights, delete_tile)\n",
    "\n",
    "            assert len(heights) == max(new_Voronoi.x_heights) + 1 # death\n",
    "            \n",
    "            k = k-1\n",
    "            x_sample.append(heights[new_Voronoi.x_heights])\n",
    "            k_sample.append(k)\n",
    "        \n",
    "        else:\n",
    "            x_sample.append(heights[old_Voronoi.x_heights])\n",
    "            k_sample.append(k)\n",
    "\n",
    "    count += 1\n",
    "\n",
    "np.save('x_samples.npy', np.array(x_sample))\n",
    "np.save('k_samples.npy', np.array(k_sample))"
   ]
  },
  {
   "cell_type": "code",
   "execution_count": null,
   "metadata": {},
   "outputs": [],
   "source": [
    "plt.plot(k_sample)"
   ]
  },
  {
   "cell_type": "markdown",
   "metadata": {},
   "source": [
    "Below for debugging purposes"
   ]
  },
  {
   "cell_type": "code",
   "execution_count": null,
   "metadata": {},
   "outputs": [],
   "source": [
    "fig = plt.figure(figsize=(10, 7))\n",
    "plot(temp_points)"
   ]
  },
  {
   "cell_type": "code",
   "execution_count": null,
   "metadata": {},
   "outputs": [],
   "source": [
    "fig = plt.figure(figsize=(10, 7))\n",
    "plot(points)"
   ]
  },
  {
   "cell_type": "code",
   "execution_count": null,
   "metadata": {},
   "outputs": [],
   "source": [
    "fig, axes = plt.subplots(figsize=(18, 5.5), nrows=1, ncols=3)\n",
    "axes[0] = sns.heatmap(grayscale,\n",
    "                        cmap='Greys',\n",
    "                        cbar=False,\n",
    "                        xticklabels='',\n",
    "                        yticklabels='',\n",
    "                        ax=axes[0])\n",
    "plt.axis('off')\n",
    "axes[1] = sns.heatmap(noisy_image,\n",
    "                      cmap='Greys',\n",
    "                      cbar=False,\n",
    "                      xticklabels='',\n",
    "                      yticklabels='',\n",
    "                      ax=axes[1])\n",
    "\n",
    "axes[2] = sns.heatmap(np.mean(x_sample, axis=0).reshape(50, 50), \n",
    "                      cmap='Greys',\n",
    "                      cbar=False,\n",
    "                      xticklabels='',\n",
    "                      yticklabels='',\n",
    "                      ax=axes[2])\n",
    "\n",
    "axes[0].set_title('Image with no noise', fontsize=18)\n",
    "axes[1].set_title('Image with added noise', fontsize=18)\n",
    "axes[2].set_title('Deblurred image', fontsize=18)"
   ]
  },
  {
   "cell_type": "code",
   "execution_count": null,
   "metadata": {},
   "outputs": [],
   "source": [
    "rr = random_tessellation_points(3)"
   ]
  },
  {
   "cell_type": "code",
   "execution_count": null,
   "metadata": {},
   "outputs": [],
   "source": [
    "plot(rr)"
   ]
  },
  {
   "cell_type": "code",
   "execution_count": null,
   "metadata": {},
   "outputs": [],
   "source": [
    "plot(rr, limits=False)"
   ]
  },
  {
   "cell_type": "code",
   "execution_count": null,
   "metadata": {},
   "outputs": [],
   "source": [
    "UpdatedVoronoi(np.concatenate((rr, [[100, 100]])))"
   ]
  },
  {
   "cell_type": "code",
   "execution_count": null,
   "metadata": {},
   "outputs": [],
   "source": [
    "points = random_tessellation_points(10)\n",
    "vor = Voronoi(points)"
   ]
  },
  {
   "cell_type": "code",
   "execution_count": null,
   "metadata": {},
   "outputs": [],
   "source": [
    "plot(points)"
   ]
  },
  {
   "cell_type": "code",
   "execution_count": null,
   "metadata": {},
   "outputs": [],
   "source": [
    "regions, vertices = voronoi_finite_polygons_2d(Voronoi(points))\n",
    "updated_vertices = {i: restricted_vertices(vertices[regions[i]], points[i]) for i in range(len(points))}\n",
    "regions"
   ]
  },
  {
   "cell_type": "code",
   "execution_count": null,
   "metadata": {},
   "outputs": [],
   "source": [
    "# manually add corners somewhere\n",
    "# order no longer matters\n",
    "for corner in [(0, 0), (0, 50), (50, 0), (50, 50)]:\n",
    "    \n",
    "    region_where_corner_belongs = np.argmin([l2_norm(p, corner) for p in points])\n",
    "    temp_vertices = updated_vertices[region_where_corner_belongs].copy()\n",
    "    \n",
    "    updated_vertices[region_where_corner_belongs] = np.array(list(temp_vertices) + [corner] )"
   ]
  },
  {
   "cell_type": "code",
   "execution_count": null,
   "metadata": {},
   "outputs": [],
   "source": [
    "total_area = 0\n",
    "for i in range(len(points)):\n",
    "    print('{}th region: {} vertices\\t area = {}'.format(i, len(updated_vertices[i]), PolyArea(updated_vertices[i])))\n",
    "    total_area += PolyArea(updated_vertices[i])\n",
    "print('Total area: ', np.around(total_area, 3))"
   ]
  },
  {
   "cell_type": "code",
   "execution_count": null,
   "metadata": {},
   "outputs": [],
   "source": [
    "list(filter(lambda s: s == 3, [1, 2, 3, 4]))"
   ]
  },
  {
   "cell_type": "code",
   "execution_count": 14,
   "metadata": {},
   "outputs": [],
   "source": [
    "b = 4\n",
    "m = 3"
   ]
  },
  {
   "cell_type": "code",
   "execution_count": 15,
   "metadata": {},
   "outputs": [],
   "source": [
    "other_candidates = [(0, b), ((50-b)/m, 50), (50, 50*m + b), (-b/m, 0)]\n",
    "other_candidates = list(filter(lambda p: not out_of_bounds(p), other_candidates))"
   ]
  },
  {
   "cell_type": "code",
   "execution_count": 16,
   "metadata": {},
   "outputs": [
    {
     "data": {
      "text/plain": [
       "[(0, 4), (15.333333333333334, 50)]"
      ]
     },
     "execution_count": 16,
     "metadata": {},
     "output_type": "execute_result"
    }
   ],
   "source": [
    "other_candidates"
   ]
  },
  {
   "cell_type": "code",
   "execution_count": 6,
   "metadata": {},
   "outputs": [],
   "source": [
    "p0, p1 = np.random.uniform(0, 50, size=[2, 2])"
   ]
  },
  {
   "cell_type": "code",
   "execution_count": 25,
   "metadata": {},
   "outputs": [
    {
     "name": "stdout",
     "output_type": "stream",
     "text": [
      "[(0, 28.947519174765105), (65.6901910636211, 50), (50, 44.97158645510345), (-90.32512990719887, 0)]\n"
     ]
    }
   ],
   "source": [
    "m, b = slope_intercept(p0, p1)\n",
    "\n",
    "_vertices = {0: [], 1: []}\n",
    "\n",
    "for corner in [(0, 0), (0, 50), (50, 0), (50, 50)]:\n",
    "\n",
    "    if l2_norm(p0, corner) < l2_norm(p1, corner):\n",
    "        # closer to p0\n",
    "        _vertices[0].append(corner)\n",
    "    else:\n",
    "        _vertices[1].append(corner)\n",
    "\n",
    "other_candidates = [(0, b), ((50-b)/m, 50), (50, 50*m + b), (-b/m, 0)]\n",
    "print(other_candidates)\n",
    "other_candidates = list(filter(lambda p: not out_of_bounds(p), other_candidates))\n",
    "\n",
    "for edge_point in other_candidates:\n",
    "    _vertices[0].append(edge_point)\n",
    "    _vertices[1].append(edge_point)\n",
    "    vertices[0].append(i)\n",
    "    vertices[1].append(i)"
   ]
  },
  {
   "cell_type": "code",
   "execution_count": 43,
   "metadata": {},
   "outputs": [],
   "source": [
    "class UpdatedVoronoi:\n",
    "    def __init__(self, _points):\n",
    "        self.points = _points\n",
    "\n",
    "        if len(_points) > 2:\n",
    "            self.vor = Voronoi(_points)\n",
    "            self.regions, self.vertices = voronoi_finite_polygons_2d(self.vor)\n",
    "            \n",
    "\n",
    "            self.areas = np.array([PolyArea(self.updated_vertices[i]) for i in range(len(_points))]) # hashable\n",
    "            self.x_heights = [] # indices\n",
    "            \n",
    "            coordinates = np.array([[(i + 0.5, j + 0.5) for i in range(50)] for j in range(50)])\n",
    "            coordinates = coordinates.reshape(-1, 2)\n",
    "\n",
    "            for (u, v) in coordinates:\n",
    "                self.x_heights.append(np.argmin(cdist(_points, [[u, v]]).reshape(-1,)))\n",
    "\n",
    "        elif len(_points) == 2:\n",
    "            if _points[0][0] < _points[1][0]:\n",
    "                p0, p1 = _points\n",
    "            else:\n",
    "                p1, p0 = _points # unpacking is possible\n",
    "\n",
    "            m, b = slope_intercept(p0, p1)\n",
    "\n",
    "            _vertices = {0: [], 1: []}\n",
    "\n",
    "            vertices = [[], []]\n",
    "\n",
    "            for i, corner in enumerate([(0, 0), (0, 50), (50, 0), (50, 50)]):\n",
    "\n",
    "                if l2_norm(p0, corner) < l2_norm(p1, corner):\n",
    "                    # closer to p0\n",
    "                    _vertices[0].append(corner)\n",
    "                    vertices[0].append(i)\n",
    "                else:\n",
    "                    _vertices[1].append(corner)\n",
    "                    vertices[1].append(i)\n",
    "\n",
    "            other_candidates = [(0, b), ((50-b)/m, 50), (50, 50*m + b), (-b/m, 0)]\n",
    "            other_candidates = list(filter(lambda p: not out_of_bounds(p), other_candidates))\n",
    "\n",
    "            for edge_point in other_candidates:\n",
    "                _vertices[0].append(edge_point)\n",
    "                _vertices[1].append(edge_point)\n",
    "\n",
    "            vertices[0] += [4, 5]\n",
    "            vertices[1] += [4, 5]\n",
    "    \n",
    "        \n",
    "            \n",
    "            self.points   = _points\n",
    "            self._vertices = _vertices\n",
    "            self.vertices = vertices\n",
    "            self.regions  = np.array([(0, 0), (0, 50), (50, 0), (50, 50)] + other_candidates)\n",
    "\n",
    "\n",
    "    \n",
    "    @property\n",
    "    def updated_vertices(self):\n",
    "        if len(self.points) == 2:\n",
    "            return self._vertices\n",
    "        \n",
    "        new_vertices = {i: restricted_vertices(self.vertices[self.regions[i]], self.points[i]) for i in range(len(self.points))}\n",
    "\n",
    "        for corner in [(0, 0), (0, 50), (50, 0), (50, 50)]:\n",
    "\n",
    "            region_where_corner_belongs = np.argmin([l2_norm(p, corner) for p in self.points])\n",
    "            temp_vertices = new_vertices[region_where_corner_belongs].copy()\n",
    "\n",
    "            new_vertices[region_where_corner_belongs] = np.unique(np.array(list(temp_vertices) + [corner]), axis=0)\n",
    "            \n",
    "        return new_vertices"
   ]
  },
  {
   "cell_type": "code",
   "execution_count": 44,
   "metadata": {},
   "outputs": [
    {
     "ename": "TypeError",
     "evalue": "only integer scalar arrays can be converted to a scalar index",
     "output_type": "error",
     "traceback": [
      "\u001b[0;31m---------------------------------------------------------------------------\u001b[0m",
      "\u001b[0;31mTypeError\u001b[0m                                 Traceback (most recent call last)",
      "\u001b[0;32m<ipython-input-44-bbec9016fcc4>\u001b[0m in \u001b[0;36m<module>\u001b[0;34m\u001b[0m\n\u001b[0;32m----> 1\u001b[0;31m \u001b[0mUpdatedVoronoi\u001b[0m\u001b[0;34m(\u001b[0m\u001b[0mrandom_tessellation_points\u001b[0m\u001b[0;34m(\u001b[0m\u001b[0;36m2\u001b[0m\u001b[0;34m)\u001b[0m\u001b[0;34m)\u001b[0m\u001b[0;34m.\u001b[0m\u001b[0mupdated_vertices\u001b[0m\u001b[0;34m\u001b[0m\u001b[0;34m\u001b[0m\u001b[0m\n\u001b[0m",
      "\u001b[0;32m<ipython-input-43-6df6b3a45a8a>\u001b[0m in \u001b[0;36mupdated_vertices\u001b[0;34m(self)\u001b[0m\n\u001b[1;32m     58\u001b[0m     \u001b[0;34m@\u001b[0m\u001b[0mproperty\u001b[0m\u001b[0;34m\u001b[0m\u001b[0;34m\u001b[0m\u001b[0m\n\u001b[1;32m     59\u001b[0m     \u001b[0;32mdef\u001b[0m \u001b[0mupdated_vertices\u001b[0m\u001b[0;34m(\u001b[0m\u001b[0mself\u001b[0m\u001b[0;34m)\u001b[0m\u001b[0;34m:\u001b[0m\u001b[0;34m\u001b[0m\u001b[0;34m\u001b[0m\u001b[0m\n\u001b[0;32m---> 60\u001b[0;31m         \u001b[0mnew_vertices\u001b[0m \u001b[0;34m=\u001b[0m \u001b[0;34m{\u001b[0m\u001b[0mi\u001b[0m\u001b[0;34m:\u001b[0m \u001b[0mrestricted_vertices\u001b[0m\u001b[0;34m(\u001b[0m\u001b[0mself\u001b[0m\u001b[0;34m.\u001b[0m\u001b[0mvertices\u001b[0m\u001b[0;34m[\u001b[0m\u001b[0mself\u001b[0m\u001b[0;34m.\u001b[0m\u001b[0mregions\u001b[0m\u001b[0;34m[\u001b[0m\u001b[0mi\u001b[0m\u001b[0;34m]\u001b[0m\u001b[0;34m]\u001b[0m\u001b[0;34m,\u001b[0m \u001b[0mself\u001b[0m\u001b[0;34m.\u001b[0m\u001b[0mpoints\u001b[0m\u001b[0;34m[\u001b[0m\u001b[0mi\u001b[0m\u001b[0;34m]\u001b[0m\u001b[0;34m)\u001b[0m \u001b[0;32mfor\u001b[0m \u001b[0mi\u001b[0m \u001b[0;32min\u001b[0m \u001b[0mrange\u001b[0m\u001b[0;34m(\u001b[0m\u001b[0mlen\u001b[0m\u001b[0;34m(\u001b[0m\u001b[0mself\u001b[0m\u001b[0;34m.\u001b[0m\u001b[0mpoints\u001b[0m\u001b[0;34m)\u001b[0m\u001b[0;34m)\u001b[0m\u001b[0;34m}\u001b[0m\u001b[0;34m\u001b[0m\u001b[0;34m\u001b[0m\u001b[0m\n\u001b[0m\u001b[1;32m     61\u001b[0m \u001b[0;34m\u001b[0m\u001b[0m\n\u001b[1;32m     62\u001b[0m         \u001b[0;32mfor\u001b[0m \u001b[0mcorner\u001b[0m \u001b[0;32min\u001b[0m \u001b[0;34m[\u001b[0m\u001b[0;34m(\u001b[0m\u001b[0;36m0\u001b[0m\u001b[0;34m,\u001b[0m \u001b[0;36m0\u001b[0m\u001b[0;34m)\u001b[0m\u001b[0;34m,\u001b[0m \u001b[0;34m(\u001b[0m\u001b[0;36m0\u001b[0m\u001b[0;34m,\u001b[0m \u001b[0;36m50\u001b[0m\u001b[0;34m)\u001b[0m\u001b[0;34m,\u001b[0m \u001b[0;34m(\u001b[0m\u001b[0;36m50\u001b[0m\u001b[0;34m,\u001b[0m \u001b[0;36m0\u001b[0m\u001b[0;34m)\u001b[0m\u001b[0;34m,\u001b[0m \u001b[0;34m(\u001b[0m\u001b[0;36m50\u001b[0m\u001b[0;34m,\u001b[0m \u001b[0;36m50\u001b[0m\u001b[0;34m)\u001b[0m\u001b[0;34m]\u001b[0m\u001b[0;34m:\u001b[0m\u001b[0;34m\u001b[0m\u001b[0;34m\u001b[0m\u001b[0m\n",
      "\u001b[0;32m<ipython-input-43-6df6b3a45a8a>\u001b[0m in \u001b[0;36m<dictcomp>\u001b[0;34m(.0)\u001b[0m\n\u001b[1;32m     58\u001b[0m     \u001b[0;34m@\u001b[0m\u001b[0mproperty\u001b[0m\u001b[0;34m\u001b[0m\u001b[0;34m\u001b[0m\u001b[0m\n\u001b[1;32m     59\u001b[0m     \u001b[0;32mdef\u001b[0m \u001b[0mupdated_vertices\u001b[0m\u001b[0;34m(\u001b[0m\u001b[0mself\u001b[0m\u001b[0;34m)\u001b[0m\u001b[0;34m:\u001b[0m\u001b[0;34m\u001b[0m\u001b[0;34m\u001b[0m\u001b[0m\n\u001b[0;32m---> 60\u001b[0;31m         \u001b[0mnew_vertices\u001b[0m \u001b[0;34m=\u001b[0m \u001b[0;34m{\u001b[0m\u001b[0mi\u001b[0m\u001b[0;34m:\u001b[0m \u001b[0mrestricted_vertices\u001b[0m\u001b[0;34m(\u001b[0m\u001b[0mself\u001b[0m\u001b[0;34m.\u001b[0m\u001b[0mvertices\u001b[0m\u001b[0;34m[\u001b[0m\u001b[0mself\u001b[0m\u001b[0;34m.\u001b[0m\u001b[0mregions\u001b[0m\u001b[0;34m[\u001b[0m\u001b[0mi\u001b[0m\u001b[0;34m]\u001b[0m\u001b[0;34m]\u001b[0m\u001b[0;34m,\u001b[0m \u001b[0mself\u001b[0m\u001b[0;34m.\u001b[0m\u001b[0mpoints\u001b[0m\u001b[0;34m[\u001b[0m\u001b[0mi\u001b[0m\u001b[0;34m]\u001b[0m\u001b[0;34m)\u001b[0m \u001b[0;32mfor\u001b[0m \u001b[0mi\u001b[0m \u001b[0;32min\u001b[0m \u001b[0mrange\u001b[0m\u001b[0;34m(\u001b[0m\u001b[0mlen\u001b[0m\u001b[0;34m(\u001b[0m\u001b[0mself\u001b[0m\u001b[0;34m.\u001b[0m\u001b[0mpoints\u001b[0m\u001b[0;34m)\u001b[0m\u001b[0;34m)\u001b[0m\u001b[0;34m}\u001b[0m\u001b[0;34m\u001b[0m\u001b[0;34m\u001b[0m\u001b[0m\n\u001b[0m\u001b[1;32m     61\u001b[0m \u001b[0;34m\u001b[0m\u001b[0m\n\u001b[1;32m     62\u001b[0m         \u001b[0;32mfor\u001b[0m \u001b[0mcorner\u001b[0m \u001b[0;32min\u001b[0m \u001b[0;34m[\u001b[0m\u001b[0;34m(\u001b[0m\u001b[0;36m0\u001b[0m\u001b[0;34m,\u001b[0m \u001b[0;36m0\u001b[0m\u001b[0;34m)\u001b[0m\u001b[0;34m,\u001b[0m \u001b[0;34m(\u001b[0m\u001b[0;36m0\u001b[0m\u001b[0;34m,\u001b[0m \u001b[0;36m50\u001b[0m\u001b[0;34m)\u001b[0m\u001b[0;34m,\u001b[0m \u001b[0;34m(\u001b[0m\u001b[0;36m50\u001b[0m\u001b[0;34m,\u001b[0m \u001b[0;36m0\u001b[0m\u001b[0;34m)\u001b[0m\u001b[0;34m,\u001b[0m \u001b[0;34m(\u001b[0m\u001b[0;36m50\u001b[0m\u001b[0;34m,\u001b[0m \u001b[0;36m50\u001b[0m\u001b[0;34m)\u001b[0m\u001b[0;34m]\u001b[0m\u001b[0;34m:\u001b[0m\u001b[0;34m\u001b[0m\u001b[0;34m\u001b[0m\u001b[0m\n",
      "\u001b[0;31mTypeError\u001b[0m: only integer scalar arrays can be converted to a scalar index"
     ]
    }
   ],
   "source": [
    "UpdatedVoronoi(random_tessellation_points(2)).updated_vertices"
   ]
  },
  {
   "cell_type": "code",
   "execution_count": null,
   "metadata": {},
   "outputs": [],
   "source": []
  }
 ],
 "metadata": {
  "kernelspec": {
   "display_name": "ml",
   "language": "python",
   "name": "ml"
  },
  "language_info": {
   "codemirror_mode": {
    "name": "ipython",
    "version": 3
   },
   "file_extension": ".py",
   "mimetype": "text/x-python",
   "name": "python",
   "nbconvert_exporter": "python",
   "pygments_lexer": "ipython3",
   "version": "3.6.8"
  }
 },
 "nbformat": 4,
 "nbformat_minor": 2
}
