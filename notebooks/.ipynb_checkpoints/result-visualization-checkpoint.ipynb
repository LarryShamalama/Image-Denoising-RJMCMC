{
 "cells": [
  {
   "cell_type": "code",
   "execution_count": 1,
   "metadata": {},
   "outputs": [
    {
     "ename": "ModuleNotFoundError",
     "evalue": "No module named 'utils'",
     "output_type": "error",
     "traceback": [
      "\u001b[0;31m---------------------------------------------------------------------------\u001b[0m",
      "\u001b[0;31mModuleNotFoundError\u001b[0m                       Traceback (most recent call last)",
      "\u001b[0;32m<ipython-input-1-afc842c306a3>\u001b[0m in \u001b[0;36m<module>\u001b[0;34m\u001b[0m\n\u001b[1;32m     15\u001b[0m \u001b[0;32mimport\u001b[0m \u001b[0mtime\u001b[0m\u001b[0;34m\u001b[0m\u001b[0;34m\u001b[0m\u001b[0m\n\u001b[1;32m     16\u001b[0m \u001b[0;34m\u001b[0m\u001b[0m\n\u001b[0;32m---> 17\u001b[0;31m \u001b[0;32mfrom\u001b[0m \u001b[0mutils\u001b[0m \u001b[0;32mimport\u001b[0m \u001b[0;34m*\u001b[0m\u001b[0;34m\u001b[0m\u001b[0;34m\u001b[0m\u001b[0m\n\u001b[0m\u001b[1;32m     18\u001b[0m \u001b[0;32mfrom\u001b[0m \u001b[0mhelper\u001b[0m \u001b[0;32mimport\u001b[0m \u001b[0;34m*\u001b[0m\u001b[0;34m\u001b[0m\u001b[0;34m\u001b[0m\u001b[0m\n\u001b[1;32m     19\u001b[0m \u001b[0;32mfrom\u001b[0m \u001b[0mcollections\u001b[0m \u001b[0;32mimport\u001b[0m \u001b[0mCounter\u001b[0m\u001b[0;34m\u001b[0m\u001b[0;34m\u001b[0m\u001b[0m\n",
      "\u001b[0;31mModuleNotFoundError\u001b[0m: No module named 'utils'"
     ]
    }
   ],
   "source": [
    "import sys\n",
    "sys.path.insert('../')\n",
    "\n",
    "import numpy as np\n",
    "import pandas as pd\n",
    "\n",
    "import matplotlib.pyplot as plt\n",
    "import matplotlib as mpl\n",
    "import matplotlib.cm as cm\n",
    "import seaborn as sns\n",
    "\n",
    "from scipy.spatial import Voronoi, voronoi_plot_2d\n",
    "from scipy.spatial.distance import cdist\n",
    "from scipy.spatial import ConvexHull\n",
    "\n",
    "import itertools\n",
    "import random\n",
    "import time\n",
    "\n",
    "from utils import *\n",
    "from helper import *\n",
    "from collections import Counter\n",
    "\n",
    "plt.style.use('seaborn-darkgrid')\n",
    "\n",
    "%config InlineBackend.figure_format = 'retina'\n",
    "%matplotlib inline\n",
    "\n",
    "np.random.seed(260647775)"
   ]
  },
  {
   "cell_type": "code",
   "execution_count": null,
   "metadata": {},
   "outputs": [],
   "source": [
    "def condition(coord):\n",
    "    x, y = coord\n",
    "    \n",
    "    return (x-25)**2 + (y-25)**2 < 225 # radius 15\n",
    "\n",
    "grid      = [[(x, y) for y in range(50)] for x in range(50)]\n",
    "grayscale = [[2 if condition(tup) else 0.5 for tup in row] for row in grid]\n",
    "\n",
    "noise = np.random.normal(0, 0.7, size=(50, 50))"
   ]
  },
  {
   "cell_type": "code",
   "execution_count": null,
   "metadata": {},
   "outputs": [],
   "source": [
    "noisy_image = grayscale - noise\n",
    "np.putmask(noisy_image, noisy_image < 0, 0)\n",
    "np.putmask(noisy_image, noisy_image > 2, 2)"
   ]
  },
  {
   "cell_type": "markdown",
   "metadata": {},
   "source": [
    "### Visualization of results from Google Cloud"
   ]
  },
  {
   "cell_type": "code",
   "execution_count": null,
   "metadata": {},
   "outputs": [],
   "source": [
    "x_sample = np.load('../samples/x_samples.npy')[4000:]\n",
    "k_sample = np.load('../samples/k_samples.npy')[4000:]"
   ]
  },
  {
   "cell_type": "code",
   "execution_count": null,
   "metadata": {},
   "outputs": [],
   "source": [
    "fig, axes = plt.subplots(figsize=(18, 5.5), nrows=1, ncols=3)\n",
    "axes[0] = sns.heatmap(grayscale,\n",
    "                        cmap='Greys',\n",
    "                        cbar=False,\n",
    "                        xticklabels='',\n",
    "                        yticklabels='',\n",
    "                        ax=axes[0])\n",
    "plt.axis('off')\n",
    "axes[1] = sns.heatmap(noisy_image,\n",
    "                      cmap='Greys',\n",
    "                      cbar=False,\n",
    "                      xticklabels='',\n",
    "                      yticklabels='',\n",
    "                      ax=axes[1])\n",
    "\n",
    "axes[2] = sns.heatmap(np.mean(x_sample, axis=0).reshape(50, 50), \n",
    "                      cmap='Greys',\n",
    "                      cbar=False,\n",
    "                      xticklabels='',\n",
    "                      yticklabels='',\n",
    "                      ax=axes[2])\n",
    "\n",
    "axes[0].set_title('Image with no noise', fontsize=18)\n",
    "axes[1].set_title('Image with added noise', fontsize=18)\n",
    "axes[2].set_title('Deblurred image', fontsize=18)"
   ]
  },
  {
   "cell_type": "code",
   "execution_count": null,
   "metadata": {},
   "outputs": [],
   "source": [
    "fig = plt.figure(figsize=(8, 5))\n",
    "plt.plot(k_sample)\n",
    "plt.title('Traceplot of k after 20 000 iterations')\n",
    "plt.xlabel('k values')\n",
    "plt.ylabel('Iteration')"
   ]
  },
  {
   "cell_type": "code",
   "execution_count": null,
   "metadata": {},
   "outputs": [],
   "source": [
    "fig, axes = plt.subplots(figsize=(20, 5), nrows=1, ncols=3)\n",
    "axes[0] = sns.heatmap(np.mean(x_sample[:6000], axis=0).reshape(50, 50),\n",
    "                      cmap='Greys',\n",
    "                      xticklabels='',\n",
    "                      yticklabels='',\n",
    "                      ax=axes[0])\n",
    "\n",
    "plt.axis('off')\n",
    "axes[1] = sns.heatmap(np.mean(x_sample[6000:13000], axis=0).reshape(50, 50),\n",
    "                      cmap='Greys',\n",
    "                      xticklabels='',\n",
    "                      yticklabels='',\n",
    "                      ax=axes[1])\n",
    "\n",
    "axes[2] = sns.heatmap(np.mean(x_sample[13000:], axis=0).reshape(50, 50), \n",
    "                      cmap='Greys',\n",
    "                      xticklabels='',\n",
    "                      yticklabels='',\n",
    "                      ax=axes[2])\n",
    "\n",
    "axes[0].set_title('Sample 1 to 6000', fontsize=18)\n",
    "axes[1].set_title('Sample 6001 to 13000', fontsize=18)\n",
    "axes[2].set_title('Sample 13001 to 20000', fontsize=18)\n",
    "Z = np.mean(x_sample, axis=0).reshape(50, 50)"
   ]
  },
  {
   "cell_type": "markdown",
   "metadata": {},
   "source": [
    "https://matplotlib.org/gallery/mplot3d/surface3d.html"
   ]
  },
  {
   "cell_type": "code",
   "execution_count": null,
   "metadata": {},
   "outputs": [],
   "source": [
    "from mpl_toolkits.mplot3d import axes3d, Axes3D\n",
    "\n",
    "fig = plt.figure(figsize=(8, 6))\n",
    "\n",
    "ax = Axes3D(fig) #<-- Note the difference from your original code...\n",
    "\n",
    "cset = ax.plot_wireframe(X, Y, Z, color='black')\n",
    "ax.clabel(cset, fontsize=9, inline=1)\n",
    "plt.tilte('Wireframe of posterior mean')\n",
    "plt.show()"
   ]
  },
  {
   "cell_type": "code",
   "execution_count": null,
   "metadata": {},
   "outputs": [],
   "source": [
    "from mpl_toolkits.mplot3d import axes3d, Axes3D\n",
    "\n",
    "fig = plt.figure(figsize=(10, 7))\n",
    "\n",
    "ax = Axes3D(fig) #<-- Note the difference from your original code...\n",
    "\n",
    "cset = ax.plot_wireframe(X, Y, noisy_image, 16, color='black')\n",
    "ax.clabel(cset, fontsize=9, inline=1)\n",
    "plt.show()"
   ]
  },
  {
   "cell_type": "code",
   "execution_count": null,
   "metadata": {},
   "outputs": [],
   "source": []
  }
 ],
 "metadata": {
  "kernelspec": {
   "display_name": "stat",
   "language": "python",
   "name": "stat"
  },
  "language_info": {
   "codemirror_mode": {
    "name": "ipython",
    "version": 3
   },
   "file_extension": ".py",
   "mimetype": "text/x-python",
   "name": "python",
   "nbconvert_exporter": "python",
   "pygments_lexer": "ipython3",
   "version": "3.8.5"
  }
 },
 "nbformat": 4,
 "nbformat_minor": 2
}
